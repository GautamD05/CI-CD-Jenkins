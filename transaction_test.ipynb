{
 "cells": [
  {
   "cell_type": "code",
   "execution_count": 1,
   "id": "640f84f1",
   "metadata": {},
   "outputs": [
    {
     "name": "stderr",
     "output_type": "stream",
     "text": [
      "E\n",
      "======================================================================\n",
      "ERROR: test_transaction_list (__main__.TestTransaction.test_transaction_list)\n",
      "----------------------------------------------------------------------\n",
      "Traceback (most recent call last):\n",
      "  File \"C:\\Users\\gauta\\AppData\\Local\\Temp\\ipykernel_14276\\3555371877.py\", line 6, in test_transaction_list\n",
      "    Transaction(12345,100.0, \"credit\"),\n",
      "    ^^^^^^^^^^^\n",
      "NameError: name 'Transaction' is not defined\n",
      "\n",
      "----------------------------------------------------------------------\n",
      "Ran 1 test in 0.001s\n",
      "\n",
      "FAILED (errors=1)\n"
     ]
    }
   ],
   "source": [
    "import unittest\n",
    "\n",
    "class TestTransaction(unittest.TestCase):\n",
    "    def test_transaction_list(self):\n",
    "        transactions = [\n",
    "            Transaction(12345,100.0, \"credit\"),\n",
    "            Transaction(67890,50.0, \"debit\"),\n",
    "        ]\n",
    "        \n",
    "        expected_reprs = [\n",
    "            \"Transaction(id=12345,amount=100.0,type='credit')\",\n",
    "            \"Transaction(id=67890,amount=50.0,type='debit')\",\n",
    "        ]\n",
    "        \n",
    "        actual_reprs = [repr(txn) for txn in transactions]\n",
    "        self.assertEqual(actual_reprs, expected_reprs)\n",
    "\n",
    "if __name__ == \"__main__\":\n",
    "    unittest.main(argv=['first-arg-is-ignored'], exit=False)"
   ]
  }
 ],
 "metadata": {
  "kernelspec": {
   "display_name": "Python 3 (ipykernel)",
   "language": "python",
   "name": "python3"
  },
  "language_info": {
   "codemirror_mode": {
    "name": "ipython",
    "version": 3
   },
   "file_extension": ".py",
   "mimetype": "text/x-python",
   "name": "python",
   "nbconvert_exporter": "python",
   "pygments_lexer": "ipython3",
   "version": "3.11.4"
  }
 },
 "nbformat": 4,
 "nbformat_minor": 5
}
